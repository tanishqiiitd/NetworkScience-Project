{
 "cells": [
  {
   "cell_type": "code",
   "execution_count": 5,
   "id": "7d6b5949-50f9-422b-a77c-37a126b5a11b",
   "metadata": {},
   "outputs": [
    {
     "name": "stdout",
     "output_type": "stream",
     "text": [
      "[293649, 525303, 408555, 300419, 195602]\n"
     ]
    }
   ],
   "source": [
    "from collections import defaultdict, Counter\n",
    "\n",
    "\n",
    "\n",
    "\"\"\"BUILD ADJACENCY LIST FROM EDGE LIST\"\"\"\n",
    "def build_graph(path):\n",
    "    g = defaultdict(set)\n",
    "    with open(path, 'r') as f:\n",
    "        for line in f:\n",
    "            if line.startswith('#'):\n",
    "                continue\n",
    "            u, v = map(int, line.strip().split())\n",
    "            g[u].add(v)\n",
    "            g[v].add(u)\n",
    "    return g\n",
    "\n",
    "\n",
    "\n",
    "\"\"\"CALCULATE DEGREE CENTRALITY FOR EACH NODE\"\"\"\n",
    "def calc_deg(g):\n",
    "    return {n: len(neigh) for n, neigh in g.items()}\n",
    "\n",
    "\n",
    "\n",
    "\"\"\"GET TOP N NODES BY DEGREE\"\"\"\n",
    "def top_nodes(deg, n=1000):\n",
    "    sorted_nodes = sorted(deg.items(), key=lambda x: -x[1])\n",
    "    return [node for node, _ in sorted_nodes[:n]]\n",
    "\n",
    "\n",
    "\n",
    "\n",
    "\"\"\"FIND BACKUP NODES FOR EACH CENTRAL NODE USING 2-HOP NEIGHBORS\"\"\"\n",
    "def get_backups(g, deg, central, k=5):\n",
    "    res = defaultdict(list)\n",
    "    for u in central:\n",
    "        neigh = g[u]\n",
    "        two_hop = []\n",
    "        \n",
    "        for v in neigh:\n",
    "            second = g[v] - {u} - neigh\n",
    "            two_hop.extend(second)\n",
    "        \n",
    "        # COUNT OCCURRENCES AND RANK BACKUPS BY FREQUENCY AND DEGREE\n",
    "        freq = Counter(two_hop)\n",
    "        ranked = sorted(freq.items(), key=lambda x: (-x[1], -deg.get(x[0], 0)))\n",
    "        \n",
    "        # SELECT TOP BACKUPS\n",
    "        res[u] = [x for x, _ in ranked[:k]]\n",
    "    \n",
    "    return res\n",
    "\n",
    "\n",
    "\n",
    "# EXECUTION\n",
    "g = build_graph('Database.txt')\n",
    "deg = calc_deg(g)\n",
    "central = top_nodes(deg, n=1000)\n",
    "backups = get_backups(g, deg, central)\n",
    "\n",
    "\n",
    "\n",
    "\n",
    "# PRINT BACKUPS FOR A SAMPLE NODE\n",
    "print(backups.get(524296))\n"
   ]
  },
  {
   "cell_type": "code",
   "execution_count": null,
   "id": "060680fb-68f5-4022-be74-d356b8d7f031",
   "metadata": {},
   "outputs": [],
   "source": []
  }
 ],
 "metadata": {
  "kernelspec": {
   "display_name": "Python 3 (ipykernel)",
   "language": "python",
   "name": "python3"
  },
  "language_info": {
   "codemirror_mode": {
    "name": "ipython",
    "version": 3
   },
   "file_extension": ".py",
   "mimetype": "text/x-python",
   "name": "python",
   "nbconvert_exporter": "python",
   "pygments_lexer": "ipython3",
   "version": "3.13.0"
  }
 },
 "nbformat": 4,
 "nbformat_minor": 5
}
